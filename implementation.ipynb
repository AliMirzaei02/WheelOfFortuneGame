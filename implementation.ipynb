{
 "cells": [
  {
   "cell_type": "code",
   "execution_count": null,
   "metadata": {},
   "outputs": [],
   "source": [
    "import random\n",
    "VOWEL_COST = 250\n",
    "LETTERS = 'ABCDEFGHIJKLMNOPQRSTUVWXYZ'\n",
    "VOWELS = 'AEIOU'"
   ]
  },
  {
   "cell_type": "markdown",
   "metadata": {},
   "source": [
    "# Part A"
   ]
  },
  {
   "cell_type": "code",
   "execution_count": 1,
   "metadata": {},
   "outputs": [],
   "source": [
    "# Write the WOFPlayer class definition (part A) here\n",
    "class WOFPlayer:\n",
    "    def __init__(self, name):\n",
    "        self.name = name\n",
    "        self.prizeMoney = 0\n",
    "        self.prizes = []\n",
    "    def __str__(self) -> str:\n",
    "        return f\"{self.name} ({self.prizeMoney})\"\n",
    "    def addMoney(self, amt):\n",
    "        self.prizeMoney += amt\n",
    "    def goBankrupt(self):\n",
    "        self.prizeMoney = 0\n",
    "    def addPrize(self, prize):\n",
    "        self.prizes.append(prize)"
   ]
  },
  {
   "cell_type": "markdown",
   "metadata": {},
   "source": [
    "# Part B"
   ]
  },
  {
   "cell_type": "code",
   "execution_count": null,
   "metadata": {},
   "outputs": [],
   "source": [
    "# Write the WOFHumanPlayer class definition (part B) here\n",
    "class WOFHumanPlayer(WOFPlayer):\n",
    "    def __init__(self, name):\n",
    "        super().__init__(name)\n",
    "    def getMove(self, category, obscuredPhrase, guessed):\n",
    "        return input(f\"{self.name} ${self.prizeMoney}\\n\\nCategory: {category}\\nPhrase: {obscuredPhrase}\\nGuessed: {guessed}\\n\\nGuess a letter, phrase, or type 'exit' or 'pass'\")"
   ]
  },
  {
   "cell_type": "markdown",
   "metadata": {},
   "source": [
    "# Part C"
   ]
  },
  {
   "cell_type": "code",
   "execution_count": null,
   "metadata": {},
   "outputs": [],
   "source": [
    "# Write the WOFComputerPlayer class definition (part C) here\n",
    "class WOFComputerPlayer(WOFPlayer):\n",
    "    def __init__(self, name, difficulty):\n",
    "        super().__init__(name)\n",
    "        self.difficulty = difficulty\n",
    "    SORTED_FREQUENCIES = 'ZQXJKVBPYGFWMUCLDRHSNIOATE'\n",
    "\n",
    "    def smartCoinFlip(self):\n",
    "        rr = random.randint(1, 10)\n",
    "        return False if rr > self.difficulty else True\n",
    "\n",
    "    def getPossibleLetters(self, guessed):\n",
    "        valid = \"\"\n",
    "        for char in LETTERS:\n",
    "            if char not in guessed:\n",
    "                if char in VOWELS:\n",
    "                    if self.prizeMoney >= VOWEL_COST:\n",
    "                        valid += char\n",
    "                else:\n",
    "                    valid += char\n",
    "        return valid\n",
    "\n",
    "    def getMove(self, category, obscuredPhrase, guessed):\n",
    "        possible_moves = self.getPossibleLetters(guessed)\n",
    "        self.SORTED_FREQUENCIES = list(self.SORTED_FREQUENCIES)\n",
    "        if possible_moves == \"\":\n",
    "            return 'pass'\n",
    "        else:\n",
    "            if self.smartCoinFlip() == True:\n",
    "                res = self.SORTED_FREQUENCIES.pop()\n",
    "                self.SORTED_FREQUENCIES = \"\".join(self.SORTED_FREQUENCIES)\n",
    "                return res\n",
    "            else:\n",
    "                return random.choice(possible_moves)"
   ]
  }
 ],
 "metadata": {
  "kernelspec": {
   "display_name": "Python 3.10.5 64-bit",
   "language": "python",
   "name": "python3"
  },
  "language_info": {
   "codemirror_mode": {
    "name": "ipython",
    "version": 3
   },
   "file_extension": ".py",
   "mimetype": "text/x-python",
   "name": "python",
   "nbconvert_exporter": "python",
   "pygments_lexer": "ipython3",
   "version": "3.10.5"
  },
  "orig_nbformat": 4,
  "vscode": {
   "interpreter": {
    "hash": "18ad26078692c0aa43cdc661a56051b2cf043feefef38aa6b2f5ce8388d33fc4"
   }
  }
 },
 "nbformat": 4,
 "nbformat_minor": 2
}
